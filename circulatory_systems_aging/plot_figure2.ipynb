{
 "cells": [
  {
   "cell_type": "code",
   "execution_count": null,
   "id": "3ed23717",
   "metadata": {},
   "outputs": [],
   "source": [
    "import matplotlib.pyplot as plt\n",
    "import matplotlib as mpl\n",
    "import numpy as np\n",
    "from utils import pickle_load, pickle_save, calc_mort\n",
    "from pathlib import Path"
   ]
  },
  {
   "cell_type": "code",
   "execution_count": null,
   "id": "aa3c7a00",
   "metadata": {},
   "outputs": [],
   "source": [
    "# change font\n",
    "mpl.rcParams['font.sans-serif'] = \"Arial\"\n",
    "mpl.rcParams['font.family'] = \"sans-serif\"\n",
    "plt.rcParams['svg.fonttype'] = 'none'"
   ]
  },
  {
   "cell_type": "code",
   "execution_count": null,
   "id": "cfcf60b8",
   "metadata": {},
   "outputs": [],
   "source": [
    "basepath = Path(\"./\")\n",
    "outpath = basepath / 'figures'\n",
    "outpath.mkdir(parents=True, exist_ok=True)"
   ]
  },
  {
   "cell_type": "markdown",
   "id": "6f320dd1",
   "metadata": {},
   "source": [
    "## plotting functions"
   ]
  },
  {
   "cell_type": "code",
   "execution_count": null,
   "id": "d05f30e9",
   "metadata": {},
   "outputs": [],
   "source": [
    "def plot_cellpop(ax,res,label=\"\"):\n",
    "    pvt = res['pop_v_time']\n",
    "    surv = res['surv']\n",
    "    s95 = 0.05*1000\n",
    "    mpvt = np.mean(pvt,axis=1)\n",
    "    cplot = mpvt[surv>s95]\n",
    "    t = np.linspace(0,1,len(cplot)) #mpvt))\n",
    "    ax.plot(t,cplot,label=label) #mpvt)\n",
    "    return ax\n",
    "\n",
    "def plot_survival(ax,res):\n",
    "    surv = res['surv']\n",
    "    s95 = 0.05*1000\n",
    "    splot = surv[surv>s95]\n",
    "    tplot = np.linspace(0,1,len(splot))\n",
    "    ax.plot(tplot,splot)\n",
    "    return ax\n",
    "\n",
    "def plot_mortality(ax,res):\n",
    "    # mort = res['mort']\n",
    "    # t = np.linspace(0,1,len(mort))\n",
    "    t, _, mort = calc_mort(res)\n",
    "    ax.plot(t, mort/np.nanmean(mort))\n",
    "    return ax"
   ]
  },
  {
   "cell_type": "code",
   "execution_count": null,
   "id": "2a8e0049",
   "metadata": {},
   "outputs": [],
   "source": [
    "# Load simulation paths\n",
    "with open(\"sim_paths.txt\") as f:\n",
    "    paths_line = f.read().strip()\n",
    "    sim_paths = paths_line.split()"
   ]
  },
  {
   "cell_type": "markdown",
   "id": "628f8c3c",
   "metadata": {},
   "source": [
    "## generate figure"
   ]
  },
  {
   "cell_type": "code",
   "execution_count": null,
   "id": "e3aeb93c",
   "metadata": {},
   "outputs": [],
   "source": [
    "fig, ax = plt.subplots(nrows=3, ncols=3)\n",
    "\n",
    "for j,k in enumerate([1,2,3]):\n",
    "    for gamma in [0, 0.25, 0.5, 0.75, 1.0]:\n",
    "        respath = Path(f\"K{k}_gamma_{gamma}\") / \"results.pkl\"\n",
    "        if respath.exists():\n",
    "            res = pickle_load(respath)    \n",
    "            ax[0,j] = plot_cellpop(ax[0,j], res, label=gamma)\n",
    "            ax[1,j] = plot_survival(ax[1,j], res)\n",
    "            ax[1,j].set_ylim(0,1000)\n",
    "            ax[2,j] = plot_mortality(ax[2,j],res)\n",
    "    ax[2,j].set_ylim(1e-3,100)\n",
    "    ax[2,j].set_yscale('log')\n",
    "    ax[0,j].set_title(f\"K = {k}\")\n",
    "    ax[0,j].set_xticklabels(\"\")\n",
    "    ax[1,j].set_xticklabels(\"\")\n",
    "for i in range(3):\n",
    "    for j in [1,2]:\n",
    "        ax[i,j].set_yticklabels(\"\")\n",
    "ax[0,0].legend()\n",
    "plt.savefig(outpath/\"figure2.svg\", bbox_inches=\"tight\")"
   ]
  },
  {
   "cell_type": "code",
   "execution_count": null,
   "id": "d9bad5ed",
   "metadata": {},
   "outputs": [],
   "source": []
  }
 ],
 "metadata": {
  "kernelspec": {
   "display_name": "aging",
   "language": "python",
   "name": "python3"
  },
  "language_info": {
   "codemirror_mode": {
    "name": "ipython",
    "version": 3
   },
   "file_extension": ".py",
   "mimetype": "text/x-python",
   "name": "python",
   "nbconvert_exporter": "python",
   "pygments_lexer": "ipython3",
   "version": "3.11.11"
  }
 },
 "nbformat": 4,
 "nbformat_minor": 5
}
